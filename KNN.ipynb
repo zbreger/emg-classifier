{
 "cells": [
  {
   "cell_type": "markdown",
   "id": "d9fab7c6",
   "metadata": {},
   "source": [
    "# Preprocessing"
   ]
  },
  {
   "cell_type": "markdown",
   "id": "e0086b8a",
   "metadata": {},
   "source": [
    "## General Imports"
   ]
  },
  {
   "cell_type": "code",
   "execution_count": 51,
   "id": "c0986e45",
   "metadata": {},
   "outputs": [],
   "source": [
    "from sklearn.neighbors import KNeighborsClassifier\n",
    "from sklearn.metrics import roc_auc_score, precision_score, cohen_kappa_score\n",
    "from sklearn.preprocessing import StandardScaler\n",
    "import matplotlib.pyplot as plt\n",
    "import pandas as pd\n",
    "import numpy as np\n",
    "import pickle"
   ]
  },
  {
   "cell_type": "markdown",
   "id": "08108b51",
   "metadata": {},
   "source": [
    "## Combine Raw Data\n",
    "* Uses both files from the first folder of the UCI data"
   ]
  },
  {
   "cell_type": "code",
   "execution_count": 52,
   "id": "1af37ef1",
   "metadata": {},
   "outputs": [
    {
     "data": {
      "text/html": [
       "<div>\n",
       "<style scoped>\n",
       "    .dataframe tbody tr th:only-of-type {\n",
       "        vertical-align: middle;\n",
       "    }\n",
       "\n",
       "    .dataframe tbody tr th {\n",
       "        vertical-align: top;\n",
       "    }\n",
       "\n",
       "    .dataframe thead th {\n",
       "        text-align: right;\n",
       "    }\n",
       "</style>\n",
       "<table border=\"1\" class=\"dataframe\">\n",
       "  <thead>\n",
       "    <tr style=\"text-align: right;\">\n",
       "      <th></th>\n",
       "      <th>time</th>\n",
       "      <th>channel1</th>\n",
       "      <th>channel2</th>\n",
       "      <th>channel3</th>\n",
       "      <th>channel4</th>\n",
       "      <th>channel5</th>\n",
       "      <th>channel6</th>\n",
       "      <th>channel7</th>\n",
       "      <th>channel8</th>\n",
       "      <th>class</th>\n",
       "    </tr>\n",
       "  </thead>\n",
       "  <tbody>\n",
       "    <tr>\n",
       "      <th>0</th>\n",
       "      <td>1</td>\n",
       "      <td>-1e-05</td>\n",
       "      <td>-3e-05</td>\n",
       "      <td>-2e-05</td>\n",
       "      <td>0</td>\n",
       "      <td>-2e-05</td>\n",
       "      <td>-1e-05</td>\n",
       "      <td>0</td>\n",
       "      <td>-2e-05</td>\n",
       "      <td>0</td>\n",
       "    </tr>\n",
       "    <tr>\n",
       "      <th>1</th>\n",
       "      <td>4</td>\n",
       "      <td>-1e-05</td>\n",
       "      <td>-3e-05</td>\n",
       "      <td>-2e-05</td>\n",
       "      <td>0</td>\n",
       "      <td>-2e-05</td>\n",
       "      <td>-1e-05</td>\n",
       "      <td>0</td>\n",
       "      <td>-2e-05</td>\n",
       "      <td>0</td>\n",
       "    </tr>\n",
       "    <tr>\n",
       "      <th>2</th>\n",
       "      <td>5</td>\n",
       "      <td>-1e-05</td>\n",
       "      <td>-3e-05</td>\n",
       "      <td>-2e-05</td>\n",
       "      <td>0</td>\n",
       "      <td>-2e-05</td>\n",
       "      <td>-1e-05</td>\n",
       "      <td>0</td>\n",
       "      <td>-2e-05</td>\n",
       "      <td>0</td>\n",
       "    </tr>\n",
       "    <tr>\n",
       "      <th>3</th>\n",
       "      <td>6</td>\n",
       "      <td>-1e-05</td>\n",
       "      <td>-3e-05</td>\n",
       "      <td>-2e-05</td>\n",
       "      <td>0</td>\n",
       "      <td>-2e-05</td>\n",
       "      <td>-1e-05</td>\n",
       "      <td>0</td>\n",
       "      <td>-2e-05</td>\n",
       "      <td>0</td>\n",
       "    </tr>\n",
       "    <tr>\n",
       "      <th>4</th>\n",
       "      <td>7</td>\n",
       "      <td>-1e-05</td>\n",
       "      <td>-3e-05</td>\n",
       "      <td>-2e-05</td>\n",
       "      <td>0</td>\n",
       "      <td>-2e-05</td>\n",
       "      <td>-1e-05</td>\n",
       "      <td>0</td>\n",
       "      <td>-2e-05</td>\n",
       "      <td>0</td>\n",
       "    </tr>\n",
       "    <tr>\n",
       "      <th>...</th>\n",
       "      <td>...</td>\n",
       "      <td>...</td>\n",
       "      <td>...</td>\n",
       "      <td>...</td>\n",
       "      <td>...</td>\n",
       "      <td>...</td>\n",
       "      <td>...</td>\n",
       "      <td>...</td>\n",
       "      <td>...</td>\n",
       "      <td>...</td>\n",
       "    </tr>\n",
       "    <tr>\n",
       "      <th>64099</th>\n",
       "      <td>66232</td>\n",
       "      <td>1e-05</td>\n",
       "      <td>3e-05</td>\n",
       "      <td>1e-05</td>\n",
       "      <td>0</td>\n",
       "      <td>-0.0001</td>\n",
       "      <td>-1e-05</td>\n",
       "      <td>-2e-05</td>\n",
       "      <td>-3e-05</td>\n",
       "      <td>0</td>\n",
       "    </tr>\n",
       "    <tr>\n",
       "      <th>64100</th>\n",
       "      <td>66233</td>\n",
       "      <td>1e-05</td>\n",
       "      <td>3e-05</td>\n",
       "      <td>1e-05</td>\n",
       "      <td>0</td>\n",
       "      <td>-0.0001</td>\n",
       "      <td>-1e-05</td>\n",
       "      <td>-2e-05</td>\n",
       "      <td>-3e-05</td>\n",
       "      <td>0</td>\n",
       "    </tr>\n",
       "    <tr>\n",
       "      <th>64101</th>\n",
       "      <td>66234</td>\n",
       "      <td>1e-05</td>\n",
       "      <td>3e-05</td>\n",
       "      <td>1e-05</td>\n",
       "      <td>0</td>\n",
       "      <td>-0.0001</td>\n",
       "      <td>-1e-05</td>\n",
       "      <td>-2e-05</td>\n",
       "      <td>-3e-05</td>\n",
       "      <td>0</td>\n",
       "    </tr>\n",
       "    <tr>\n",
       "      <th>64102</th>\n",
       "      <td>66235</td>\n",
       "      <td>1e-05</td>\n",
       "      <td>3e-05</td>\n",
       "      <td>1e-05</td>\n",
       "      <td>0</td>\n",
       "      <td>-0.0001</td>\n",
       "      <td>-1e-05</td>\n",
       "      <td>-2e-05</td>\n",
       "      <td>-3e-05</td>\n",
       "      <td>0</td>\n",
       "    </tr>\n",
       "    <tr>\n",
       "      <th>64103</th>\n",
       "      <td>66236</td>\n",
       "      <td>1e-05</td>\n",
       "      <td>3e-05</td>\n",
       "      <td>1e-05</td>\n",
       "      <td>0</td>\n",
       "      <td>-0.0001</td>\n",
       "      <td>-1e-05</td>\n",
       "      <td>-2e-05</td>\n",
       "      <td>-3e-05</td>\n",
       "      <td>0</td>\n",
       "    </tr>\n",
       "  </tbody>\n",
       "</table>\n",
       "<p>136426 rows × 10 columns</p>\n",
       "</div>"
      ],
      "text/plain": [
       "        time channel1 channel2 channel3 channel4 channel5 channel6 channel7  \\\n",
       "0          1   -1e-05   -3e-05   -2e-05        0   -2e-05   -1e-05        0   \n",
       "1          4   -1e-05   -3e-05   -2e-05        0   -2e-05   -1e-05        0   \n",
       "2          5   -1e-05   -3e-05   -2e-05        0   -2e-05   -1e-05        0   \n",
       "3          6   -1e-05   -3e-05   -2e-05        0   -2e-05   -1e-05        0   \n",
       "4          7   -1e-05   -3e-05   -2e-05        0   -2e-05   -1e-05        0   \n",
       "...      ...      ...      ...      ...      ...      ...      ...      ...   \n",
       "64099  66232    1e-05    3e-05    1e-05        0  -0.0001   -1e-05   -2e-05   \n",
       "64100  66233    1e-05    3e-05    1e-05        0  -0.0001   -1e-05   -2e-05   \n",
       "64101  66234    1e-05    3e-05    1e-05        0  -0.0001   -1e-05   -2e-05   \n",
       "64102  66235    1e-05    3e-05    1e-05        0  -0.0001   -1e-05   -2e-05   \n",
       "64103  66236    1e-05    3e-05    1e-05        0  -0.0001   -1e-05   -2e-05   \n",
       "\n",
       "      channel8 class  \n",
       "0       -2e-05     0  \n",
       "1       -2e-05     0  \n",
       "2       -2e-05     0  \n",
       "3       -2e-05     0  \n",
       "4       -2e-05     0  \n",
       "...        ...   ...  \n",
       "64099   -3e-05     0  \n",
       "64100   -3e-05     0  \n",
       "64101   -3e-05     0  \n",
       "64102   -3e-05     0  \n",
       "64103   -3e-05     0  \n",
       "\n",
       "[136426 rows x 10 columns]"
      ]
     },
     "execution_count": 52,
     "metadata": {},
     "output_type": "execute_result"
    }
   ],
   "source": [
    "files = ['EMG_data_for_gestures-master/02/1_raw_data_14-19_22.03.16.txt',\n",
    "         'EMG_data_for_gestures-master/02/2_raw_data_14-21_22.03.16.txt']\n",
    "df = pd.DataFrame()\n",
    "for file in files:\n",
    "    f = open(file, 'r')\n",
    "    f = f.readlines()\n",
    "    for count, val in enumerate(f):\n",
    "        row = val.split(\"\\t\")\n",
    "        row[-1] = row[-1][:-1]\n",
    "        f[count] = row\n",
    "    df = pd.concat([df, pd.DataFrame(f[1:], columns=f[0])])\n",
    "'''\n",
    "\n",
    "f = open('EMG_data_for_gestures-master/02/1_raw_data_14-19_22.03.16.txt', 'r')\n",
    "f = f.readlines()\n",
    "g = open('EMG_data_for_gestures-master/02/2_raw_data_14-21_22.03.16.txt', 'r')\n",
    "g = g.readlines()\n",
    "\n",
    "for count, val in enumerate(f):\n",
    "\trow = val.split(\"\\t\")\n",
    "\trow[-1] = row[-1][:-1]\n",
    "\tf[count] = row\n",
    "for count, val in enumerate(g):\n",
    "\trow = val.split(\"\\t\")\n",
    "\trow[-1] = row[-1][:-1]\n",
    "\tg[count] = row\n",
    "df1 = pd.DataFrame(f[1:], columns=f[0])\n",
    "df2 = pd.DataFrame(g[1:], columns=g[0])\n",
    "df = pd.concat([df1, df2])\n",
    "#df.astype(float) this is optional, but semantically makes more sense. will it run faster?\n",
    "'''\n",
    "df"
   ]
  },
  {
   "cell_type": "markdown",
   "id": "9ae803f1",
   "metadata": {},
   "source": [
    "## Visualize Data"
   ]
  },
  {
   "cell_type": "code",
   "execution_count": 53,
   "id": "23b2f2bc",
   "metadata": {
    "scrolled": true
   },
   "outputs": [
    {
     "name": "stdout",
     "output_type": "stream",
     "text": [
      "                time       channel1       channel2       channel3  \\\n",
      "count  136426.000000  136426.000000  136426.000000  136426.000000   \n",
      "mean    35381.406096      -0.000007      -0.000010      -0.000010   \n",
      "std     20500.820726       0.000154       0.000059       0.000106   \n",
      "min         1.000000      -0.001280      -0.001070      -0.001020   \n",
      "25%     17709.000000      -0.000030      -0.000030      -0.000040   \n",
      "50%     35303.000000      -0.000010      -0.000010      -0.000010   \n",
      "75%     52819.750000       0.000010       0.000010       0.000020   \n",
      "max     74525.000000       0.001270       0.000530       0.000830   \n",
      "\n",
      "            channel4       channel5       channel6       channel7  \\\n",
      "count  136426.000000  136426.000000  136426.000000  136426.000000   \n",
      "mean       -0.000010      -0.000011      -0.000009      -0.000009   \n",
      "std         0.000255       0.000189       0.000131       0.000143   \n",
      "min        -0.001280      -0.001280      -0.001280      -0.001280   \n",
      "25%        -0.000060      -0.000080      -0.000050      -0.000030   \n",
      "50%        -0.000010      -0.000010      -0.000010      -0.000010   \n",
      "75%         0.000040       0.000050       0.000030       0.000010   \n",
      "max         0.001270       0.001270       0.001100       0.001220   \n",
      "\n",
      "            channel8          class  \n",
      "count  136426.000000  136426.000000  \n",
      "mean       -0.000009       1.076767  \n",
      "std         0.000104       1.881969  \n",
      "min        -0.001150       0.000000  \n",
      "25%        -0.000030       0.000000  \n",
      "50%        -0.000010       0.000000  \n",
      "75%         0.000010       2.000000  \n",
      "max         0.001040       6.000000  \n"
     ]
    },
    {
     "data": {
      "image/png": "[encoded data removed]",
      "text/plain": [
       "<Figure size 864x576 with 9 Axes>"
      ]
     },
     "metadata": {
      "needs_background": "light"
     },
     "output_type": "display_data"
    }
   ],
   "source": [
    "df = df.astype('float')\n",
    "print(df.describe())\n",
    "df.drop('time',axis=1).hist(figsize=(12, 8), bins=25)\n",
    "plt.show()"
   ]
  },
  {
   "cell_type": "markdown",
   "id": "ba188a22",
   "metadata": {},
   "source": [
    "* Luckily the data is normally distributed\n",
    "* I will still standardize it just to be safe and I'd imagine it's just good practice"
   ]
  },
  {
   "cell_type": "markdown",
   "id": "5d885e54",
   "metadata": {},
   "source": [
    "## Create sample dataframe\n",
    "* To create the sample first define what X and y are. X is the array of (samples, features) and y  is the 1d-array of classes.\n",
    "* After scaling the X values with fit_transform, we can combine it together.\n",
    "* Then we drop the many duplicate values, since the EMG records every millisecond and is bound to have duplicates\n",
    "* Removes all rows where the class is 0, since this is unmarked data according to the UCI data"
   ]
  },
  {
   "cell_type": "code",
   "execution_count": 80,
   "id": "fef81a14",
   "metadata": {},
   "outputs": [
    {
     "name": "stderr",
     "output_type": "stream",
     "text": [
      "<ipython-input-80-1034bbb64330>:5: SettingWithCopyWarning: \n",
      "A value is trying to be set on a copy of a slice from a DataFrame.\n",
      "Try using .loc[row_indexer,col_indexer] = value instead\n",
      "\n",
      "See the caveats in the documentation: https://pandas.pydata.org/pandas-docs/stable/user_guide/indexing.html#returning-a-view-versus-a-copy\n",
      "  X[xcols] = scaler.fit_transform(X[xcols].values) #X[xcols] = not X = since we can maintain a dataframe for X\n",
      "C:\\Users\\14024\\anaconda3\\lib\\site-packages\\pandas\\core\\indexing.py:1637: SettingWithCopyWarning: \n",
      "A value is trying to be set on a copy of a slice from a DataFrame\n",
      "\n",
      "See the caveats in the documentation: https://pandas.pydata.org/pandas-docs/stable/user_guide/indexing.html#returning-a-view-versus-a-copy\n",
      "  self._setitem_single_block(indexer, value, name)\n",
      "C:\\Users\\14024\\anaconda3\\lib\\site-packages\\pandas\\core\\indexing.py:692: SettingWithCopyWarning: \n",
      "A value is trying to be set on a copy of a slice from a DataFrame\n",
      "\n",
      "See the caveats in the documentation: https://pandas.pydata.org/pandas-docs/stable/user_guide/indexing.html#returning-a-view-versus-a-copy\n",
      "  iloc._setitem_with_indexer(indexer, value, self.name)\n"
     ]
    },
    {
     "data": {
      "text/html": [
       "<div>\n",
       "<style scoped>\n",
       "    .dataframe tbody tr th:only-of-type {\n",
       "        vertical-align: middle;\n",
       "    }\n",
       "\n",
       "    .dataframe tbody tr th {\n",
       "        vertical-align: top;\n",
       "    }\n",
       "\n",
       "    .dataframe thead th {\n",
       "        text-align: right;\n",
       "    }\n",
       "</style>\n",
       "<table border=\"1\" class=\"dataframe\">\n",
       "  <thead>\n",
       "    <tr style=\"text-align: right;\">\n",
       "      <th></th>\n",
       "      <th>channel1</th>\n",
       "      <th>channel2</th>\n",
       "      <th>channel3</th>\n",
       "      <th>channel4</th>\n",
       "      <th>channel5</th>\n",
       "      <th>channel6</th>\n",
       "      <th>channel7</th>\n",
       "      <th>channel8</th>\n",
       "      <th>class</th>\n",
       "    </tr>\n",
       "  </thead>\n",
       "  <tbody>\n",
       "    <tr>\n",
       "      <th>2755</th>\n",
       "      <td>0.043303</td>\n",
       "      <td>0.168747</td>\n",
       "      <td>0.282566</td>\n",
       "      <td>0.118342</td>\n",
       "      <td>0.059060</td>\n",
       "      <td>-0.008965</td>\n",
       "      <td>-0.009804</td>\n",
       "      <td>-0.102170</td>\n",
       "      <td>1.0</td>\n",
       "    </tr>\n",
       "    <tr>\n",
       "      <th>2773</th>\n",
       "      <td>0.043303</td>\n",
       "      <td>-0.172186</td>\n",
       "      <td>-0.094078</td>\n",
       "      <td>-0.038498</td>\n",
       "      <td>-0.046745</td>\n",
       "      <td>-0.162162</td>\n",
       "      <td>-0.149694</td>\n",
       "      <td>-0.102170</td>\n",
       "      <td>1.0</td>\n",
       "    </tr>\n",
       "    <tr>\n",
       "      <th>2774</th>\n",
       "      <td>-0.021549</td>\n",
       "      <td>0.339214</td>\n",
       "      <td>-0.094078</td>\n",
       "      <td>-0.038498</td>\n",
       "      <td>0.111962</td>\n",
       "      <td>0.067633</td>\n",
       "      <td>-0.009804</td>\n",
       "      <td>0.090251</td>\n",
       "      <td>1.0</td>\n",
       "    </tr>\n",
       "    <tr>\n",
       "      <th>2785</th>\n",
       "      <td>-0.021549</td>\n",
       "      <td>-0.683586</td>\n",
       "      <td>-0.659046</td>\n",
       "      <td>-0.195338</td>\n",
       "      <td>-0.152551</td>\n",
       "      <td>0.067633</td>\n",
       "      <td>0.130086</td>\n",
       "      <td>0.090251</td>\n",
       "      <td>1.0</td>\n",
       "    </tr>\n",
       "    <tr>\n",
       "      <th>2793</th>\n",
       "      <td>-0.021549</td>\n",
       "      <td>0.168747</td>\n",
       "      <td>0.659211</td>\n",
       "      <td>0.079132</td>\n",
       "      <td>0.006157</td>\n",
       "      <td>0.067633</td>\n",
       "      <td>0.060141</td>\n",
       "      <td>-0.005960</td>\n",
       "      <td>1.0</td>\n",
       "    </tr>\n",
       "    <tr>\n",
       "      <th>...</th>\n",
       "      <td>...</td>\n",
       "      <td>...</td>\n",
       "      <td>...</td>\n",
       "      <td>...</td>\n",
       "      <td>...</td>\n",
       "      <td>...</td>\n",
       "      <td>...</td>\n",
       "      <td>...</td>\n",
       "      <td>...</td>\n",
       "    </tr>\n",
       "    <tr>\n",
       "      <th>61816</th>\n",
       "      <td>-0.280956</td>\n",
       "      <td>0.168747</td>\n",
       "      <td>-0.282401</td>\n",
       "      <td>-0.195338</td>\n",
       "      <td>-0.946089</td>\n",
       "      <td>-0.545153</td>\n",
       "      <td>-0.009804</td>\n",
       "      <td>0.090251</td>\n",
       "      <td>6.0</td>\n",
       "    </tr>\n",
       "    <tr>\n",
       "      <th>61829</th>\n",
       "      <td>-0.086401</td>\n",
       "      <td>0.509681</td>\n",
       "      <td>0.188405</td>\n",
       "      <td>-0.195338</td>\n",
       "      <td>-0.364161</td>\n",
       "      <td>-0.621751</td>\n",
       "      <td>-2.317987</td>\n",
       "      <td>-1.641536</td>\n",
       "      <td>6.0</td>\n",
       "    </tr>\n",
       "    <tr>\n",
       "      <th>61830</th>\n",
       "      <td>0.237857</td>\n",
       "      <td>-0.001719</td>\n",
       "      <td>0.282566</td>\n",
       "      <td>0.000712</td>\n",
       "      <td>0.746793</td>\n",
       "      <td>0.910212</td>\n",
       "      <td>3.417498</td>\n",
       "      <td>1.725826</td>\n",
       "      <td>6.0</td>\n",
       "    </tr>\n",
       "    <tr>\n",
       "      <th>61851</th>\n",
       "      <td>-0.151252</td>\n",
       "      <td>-0.342653</td>\n",
       "      <td>-0.094078</td>\n",
       "      <td>-0.038498</td>\n",
       "      <td>1.857747</td>\n",
       "      <td>0.910212</td>\n",
       "      <td>1.039370</td>\n",
       "      <td>0.571302</td>\n",
       "      <td>6.0</td>\n",
       "    </tr>\n",
       "    <tr>\n",
       "      <th>61852</th>\n",
       "      <td>0.108154</td>\n",
       "      <td>-0.172186</td>\n",
       "      <td>-0.094078</td>\n",
       "      <td>0.392813</td>\n",
       "      <td>0.006157</td>\n",
       "      <td>-0.621751</td>\n",
       "      <td>0.130086</td>\n",
       "      <td>0.571302</td>\n",
       "      <td>6.0</td>\n",
       "    </tr>\n",
       "  </tbody>\n",
       "</table>\n",
       "<p>4642 rows × 9 columns</p>\n",
       "</div>"
      ],
      "text/plain": [
       "       channel1  channel2  channel3  channel4  channel5  channel6  channel7  \\\n",
       "2755   0.043303  0.168747  0.282566  0.118342  0.059060 -0.008965 -0.009804   \n",
       "2773   0.043303 -0.172186 -0.094078 -0.038498 -0.046745 -0.162162 -0.149694   \n",
       "2774  -0.021549  0.339214 -0.094078 -0.038498  0.111962  0.067633 -0.009804   \n",
       "2785  -0.021549 -0.683586 -0.659046 -0.195338 -0.152551  0.067633  0.130086   \n",
       "2793  -0.021549  0.168747  0.659211  0.079132  0.006157  0.067633  0.060141   \n",
       "...         ...       ...       ...       ...       ...       ...       ...   \n",
       "61816 -0.280956  0.168747 -0.282401 -0.195338 -0.946089 -0.545153 -0.009804   \n",
       "61829 -0.086401  0.509681  0.188405 -0.195338 -0.364161 -0.621751 -2.317987   \n",
       "61830  0.237857 -0.001719  0.282566  0.000712  0.746793  0.910212  3.417498   \n",
       "61851 -0.151252 -0.342653 -0.094078 -0.038498  1.857747  0.910212  1.039370   \n",
       "61852  0.108154 -0.172186 -0.094078  0.392813  0.006157 -0.621751  0.130086   \n",
       "\n",
       "       channel8  class  \n",
       "2755  -0.102170    1.0  \n",
       "2773  -0.102170    1.0  \n",
       "2774   0.090251    1.0  \n",
       "2785   0.090251    1.0  \n",
       "2793  -0.005960    1.0  \n",
       "...         ...    ...  \n",
       "61816  0.090251    6.0  \n",
       "61829 -1.641536    6.0  \n",
       "61830  1.725826    6.0  \n",
       "61851  0.571302    6.0  \n",
       "61852  0.571302    6.0  \n",
       "\n",
       "[4642 rows x 9 columns]"
      ]
     },
     "execution_count": 80,
     "metadata": {},
     "output_type": "execute_result"
    }
   ],
   "source": [
    "xcols = df.columns[1:-1]\n",
    "X = df[xcols]\n",
    "y = df[['class']]\n",
    "scaler = StandardScaler()\n",
    "X[xcols] = scaler.fit_transform(X[xcols].values) #X[xcols] = not X = since we can maintain a dataframe for X\n",
    "\n",
    "sample = pd.concat([X, y], axis=1)\n",
    "sample.drop_duplicates(inplace=True) #helps prevent overfitting im assuming\n",
    "sample = sample[sample['class'] != 0.0] #if features are floats, change to 0.0 instead of '0' and vice versa\n",
    "sample\n"
   ]
  },
  {
   "cell_type": "markdown",
   "id": "7a7b2826",
   "metadata": {
    "scrolled": true
   },
   "source": [
    "* Taking a look at the data, notice that many indices are missing, specifically from 64000 to around 4600.\n",
    "* The new sample dataframe again removes duplicate rows and rows where the class is 0.0.\n",
    "* The values are also different, since they are now in terms of standard deviations instead of the raw EMG output\n",
    "* Just to clarify, every row of this dataframe is a group. Every row is a reading from the EMG, recording the output of the electrodes and which movement (class) the subject is performing"
   ]
  },
  {
   "cell_type": "code",
   "execution_count": 81,
   "id": "41bd5a8c",
   "metadata": {
    "scrolled": true
   },
   "outputs": [
    {
     "data": {
      "image/png": "[encoded data removed]",
      "text/plain": [
       "<Figure size 864x576 with 9 Axes>"
      ]
     },
     "metadata": {
      "needs_background": "light"
     },
     "output_type": "display_data"
    }
   ],
   "source": [
    "sample.hist(figsize=(12,8), bins=25)\n",
    "plt.show()"
   ]
  },
  {
   "cell_type": "markdown",
   "id": "7d0c2803",
   "metadata": {},
   "source": [
    "# Model"
   ]
  },
  {
   "cell_type": "markdown",
   "id": "6f5fa1a5",
   "metadata": {},
   "source": [
    "## Split train/test data"
   ]
  },
  {
   "cell_type": "code",
   "execution_count": 95,
   "id": "1f946934",
   "metadata": {},
   "outputs": [
    {
     "name": "stdout",
     "output_type": "stream",
     "text": [
      "156 test samples in class 1\n",
      "150 test samples in class 2\n",
      "149 test samples in class 3\n",
      "158 test samples in class 4\n",
      "155 test samples in class 5\n",
      "161 test samples in class 6\n"
     ]
    }
   ],
   "source": [
    "from sklearn.model_selection import train_test_split\n",
    "\n",
    "sample.to_csv(\"newsample.csv\")\n",
    "sampleX = sample[xcols]\n",
    "sampley = sample[['class']]\n",
    "\n",
    "X_train, X_test, y_train, y_test = train_test_split(\n",
    "    sampleX, sampley, test_size=0.2, stratify=sample[['class']], random_state=43) #add random_state=int as arg if you want to use the same random seed\n",
    "for i in [1,2,3,4,5,6]:\n",
    "    print(f\"{len(y_test[y_test['class'] == i].index)} test samples in class {i}\")"
   ]
  },
  {
   "cell_type": "markdown",
   "id": "196eecb7",
   "metadata": {},
   "source": [
    "## Create model"
   ]
  },
  {
   "cell_type": "code",
   "execution_count": 83,
   "id": "f585d81c",
   "metadata": {},
   "outputs": [
    {
     "name": "stderr",
     "output_type": "stream",
     "text": [
      "C:\\Users\\14024\\anaconda3\\lib\\site-packages\\sklearn\\neighbors\\_classification.py:198: DataConversionWarning: A column-vector y was passed when a 1d array was expected. Please change the shape of y to (n_samples,), for example using ravel().\n",
      "  return self._fit(X, y)\n",
      "C:\\Users\\14024\\anaconda3\\lib\\site-packages\\sklearn\\base.py:438: UserWarning: X has feature names, but KNeighborsClassifier was fitted without feature names\n",
      "  warnings.warn(\n"
     ]
    },
    {
     "data": {
      "text/plain": [
       "0.6964477933261571"
      ]
     },
     "execution_count": 83,
     "metadata": {},
     "output_type": "execute_result"
    }
   ],
   "source": [
    "neighbors=5\n",
    "\n",
    "model = KNeighborsClassifier(n_neighbors=neighbors)\n",
    "model.fit(X_train.values, y_train.values)\n",
    "#loaded_model = pickle.load(open('emgknn.sav', 'rb')) was testing old model\n",
    "model.score(X_test, y_test)"
   ]
  },
  {
   "cell_type": "markdown",
   "id": "d859405e",
   "metadata": {},
   "source": [
    "## Test Model\n",
    "* I realize now that in my original model, these metrics used all y values, including the training data oops\n",
    "* I fixed it, and luckily scores haven't dropped significantly. The only issue is precision is slightly below 70%"
   ]
  },
  {
   "cell_type": "code",
   "execution_count": 84,
   "id": "55b4c67e",
   "metadata": {},
   "outputs": [],
   "source": [
    "y_pred = model.predict(X_test.values)\n",
    "y_true = y_test.values"
   ]
  },
  {
   "cell_type": "code",
   "execution_count": 85,
   "id": "972c8a19",
   "metadata": {},
   "outputs": [
    {
     "data": {
      "text/plain": [
       "0.6953591659415862"
      ]
     },
     "execution_count": 85,
     "metadata": {},
     "output_type": "execute_result"
    }
   ],
   "source": [
    "precision_score(y_true, y_pred, average='weighted')"
   ]
  },
  {
   "cell_type": "code",
   "execution_count": 86,
   "id": "f9002dcc",
   "metadata": {},
   "outputs": [
    {
     "data": {
      "text/plain": [
       "0.6357845331672445"
      ]
     },
     "execution_count": 86,
     "metadata": {},
     "output_type": "execute_result"
    }
   ],
   "source": [
    "cohen_kappa_score(y_true, y_pred)"
   ]
  },
  {
   "cell_type": "code",
   "execution_count": 87,
   "id": "4e72c53d",
   "metadata": {},
   "outputs": [
    {
     "data": {
      "text/plain": [
       "0.9116694516158689"
      ]
     },
     "execution_count": 87,
     "metadata": {},
     "output_type": "execute_result"
    }
   ],
   "source": [
    "roc_auc_score(y_true, model.predict_proba(X_test.values), multi_class='ovr')"
   ]
  },
  {
   "cell_type": "code",
   "execution_count": 88,
   "id": "c5da41a9",
   "metadata": {
    "scrolled": true
   },
   "outputs": [
    {
     "data": {
      "image/png": "[encoded data removed]",
      "text/plain": [
       "<Figure size 864x576 with 2 Axes>"
      ]
     },
     "metadata": {
      "needs_background": "light"
     },
     "output_type": "display_data"
    }
   ],
   "source": [
    "from sklearn.metrics import ConfusionMatrixDisplay, confusion_matrix\n",
    "\n",
    "fig, ax = plt.subplots(figsize=(12, 8))\n",
    "\n",
    "cm = confusion_matrix(y_true, y_pred)\n",
    "cmp = ConfusionMatrixDisplay(cm, display_labels=[1,2,3,4,5,6])\n",
    "cmp.plot(ax=ax)\n",
    "\n",
    "plt.show()"
   ]
  },
  {
   "cell_type": "markdown",
   "id": "80a60ebb",
   "metadata": {},
   "source": [
    "* This matrix depicts the true positives, false positives, true negatives, and false negatives.\n",
    "* On the y-axis, you have the true classifications. On the first row, for example, the model predicted a value that really was class 1 as class 1 213 times, predicted a value that really was class 1 as class 2 one time, and so on.\n",
    "* We can see that the model has the most trouble differentiating between movements 4 and 5."
   ]
  },
  {
   "cell_type": "markdown",
   "id": "83d0cc77",
   "metadata": {},
   "source": [
    "* If something like this is implemented, something like the iPhone touch/face ID can be used.\n",
    "* User does a movement of their choice. Basic conditionals can be used if movement is not good enough\n",
    "* After 5 or 6 movements, a confusion matrix can be made, and if precision is too low, redo necessary movements"
   ]
  },
  {
   "cell_type": "code",
   "execution_count": null,
   "id": "1231a4fa",
   "metadata": {},
   "outputs": [],
   "source": []
  }
 ],
 "metadata": {
  "kernelspec": {
   "display_name": "Python 3 (ipykernel)",
   "language": "python",
   "name": "python3"
  },
  "language_info": {
   "codemirror_mode": {
    "name": "ipython",
    "version": 3
   },
   "file_extension": ".py",
   "mimetype": "text/x-python",
   "name": "python",
   "nbconvert_exporter": "python",
   "pygments_lexer": "ipython3",
   "version": "3.9.6"
  }
 },
 "nbformat": 4,
 "nbformat_minor": 5
}
